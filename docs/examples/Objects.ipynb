{
 "cells": [
  {
   "cell_type": "markdown",
   "metadata": {},
   "source": [
    "# Objects"
   ]
  },
  {
   "cell_type": "markdown",
   "metadata": {},
   "source": [
    "In _Python_ everything is an object thus everything _metaknowledge_ produces is an object. There are three objects that have been created specifically for it,  objects created this way are call classes. The three are `Record` a single WOS record, `RecordCollection` a group of `Records` and `Citation` a single WOS citation.\n",
    "\n",
    "Lets import _metaknowledge_ and read a file\n"
   ]
  },
  {
   "cell_type": "code",
   "execution_count": 1,
   "metadata": {
    "collapsed": false
   },
   "outputs": [],
   "source": [
    "import metaknowledge as mk\n",
    "RC = mk.RecordCollection('../savedrecs.txt') # '..' is one directory above the current one"
   ]
  },
  {
   "cell_type": "markdown",
   "metadata": {},
   "source": [
    "Now we can look at how the different objects relate to this file."
   ]
  },
  {
   "cell_type": "markdown",
   "metadata": {},
   "source": [
    "# `Record` object"
   ]
  },
  {
   "cell_type": "markdown",
   "metadata": {},
   "source": [
    "[Record](../documentation/classes/Record.html#record-mapping-hashable) is an object that contains a simple WOS record, for example a journal article, book, or conference proceedings. They are what [RecordCollections](../documentation/classes/RecordCollection.html#recordcollection-collectionwithids) contain. To see an individual [Record](../documentation/classes/Record.html#record-mapping-hashable) at random from a `RecordCollection` you can use `peak()`\n"
   ]
  },
  {
   "cell_type": "code",
   "execution_count": 2,
   "metadata": {
    "collapsed": false
   },
   "outputs": [],
   "source": [
    "R = RC.peak()"
   ]
  },
  {
   "cell_type": "markdown",
   "metadata": {},
   "source": [
    "A single `Record` can give you all the information it contains about its record. If for example you want its authors.\n"
   ]
  },
  {
   "cell_type": "code",
   "execution_count": 3,
   "metadata": {
    "collapsed": false
   },
   "outputs": [
    {
     "name": "stdout",
     "output_type": "stream",
     "text": [
      "['BREVIK, I']\n",
      "['BREVIK, I']\n"
     ]
    }
   ],
   "source": [
    "print(R.authorsFull)\n",
    "print(R.AF)"
   ]
  },
  {
   "cell_type": "markdown",
   "metadata": {},
   "source": [
    "Converting a `Record` to a string will give its title\n"
   ]
  },
  {
   "cell_type": "code",
   "execution_count": 4,
   "metadata": {
    "collapsed": false
   },
   "outputs": [
    {
     "name": "stdout",
     "output_type": "stream",
     "text": [
      "EXPERIMENTS IN PHENOMENOLOGICAL ELECTRODYNAMICS AND THE ELECTROMAGNETIC ENERGY-MOMENTUM TENSOR\n"
     ]
    }
   ],
   "source": [
    "print(R)"
   ]
  },
  {
   "cell_type": "markdown",
   "metadata": {},
   "source": [
    "If you try to access a tag the `Record` does not have it will return `None`\n"
   ]
  },
  {
   "cell_type": "code",
   "execution_count": 5,
   "metadata": {
    "collapsed": false
   },
   "outputs": [
    {
     "name": "stdout",
     "output_type": "stream",
     "text": [
      "None\n"
     ]
    }
   ],
   "source": [
    "print(R.GP)"
   ]
  },
  {
   "cell_type": "markdown",
   "metadata": {},
   "source": [
    "There are two ways of getting each tag, one is using the WOS 2 letter abbreviation and the second is to use the human readable name. There is no standard for the human readable names, so they are specific to _metaknowledge_. To see how the WOS names map to the long names look at [tagFuncs](../documentation/modules/WOS.html#module-metaknowledge.WOS.tagProcessing.tagFunctions). If you want all the tags a `Record` has use [iter](../documentation/classes/Record.html#record-mapping-hashable).\n"
   ]
  },
  {
   "cell_type": "code",
   "execution_count": 6,
   "metadata": {
    "collapsed": false
   },
   "outputs": [
    {
     "name": "stdout",
     "output_type": "stream",
     "text": [
      "['PT', 'AU', 'AF', 'TI', 'SO', 'LA', 'DT', 'C1', 'CR', 'NR', 'TC', 'Z9', 'PU', 'PI', 'PA', 'SN', 'J9', 'JI', 'PY', 'VL', 'IS', 'BP', 'EP', 'DI', 'PG', 'WC', 'SC', 'GA', 'UT']\n"
     ]
    }
   ],
   "source": [
    "print(R.__iter__())"
   ]
  },
  {
   "cell_type": "markdown",
   "metadata": {},
   "source": [
    "# `RecordCollection` object"
   ]
  },
  {
   "cell_type": "markdown",
   "metadata": {},
   "source": [
    "[RecordCollection](../documentation/classes/RecordCollection.html#recordcollection-collectionwithids) is the object that _metaknowledge_ uses the most. It is your interface with the data you want.\n",
    "\n",
    "To iterate over all of the `Records` you can use a for loop\n"
   ]
  },
  {
   "cell_type": "code",
   "execution_count": 7,
   "metadata": {
    "collapsed": false
   },
   "outputs": [
    {
     "name": "stdout",
     "output_type": "stream",
     "text": [
      "EXPERIMENTS IN PHENOMENOLOGICAL ELECTRODYNAMICS AND THE ELECTROMAGNETIC ENERGY-MOMENTUM TENSOR\n",
      "OBSERVATION OF SHIFTS IN TOTAL REFLECTION OF A LIGHT-BEAM BY A MULTILAYERED STRUCTURE\n",
      "ANGULAR SPECTRUM AS AN ELECTRICAL NETWORK\n",
      "SHIFTS OF COHERENT-LIGHT BEAMS ON REFLECTION AT PLANE INTERFACES BETWEEN ISOTROPIC MEDIA\n",
      "DISCUSSIONS OF PROBLEM OF PONDEROMOTIVE FORCES\n",
      "A Novel Method for Enhancing Goos-Hanchen Shift in Total Internal Reflection\n",
      "Optical properties of nanostructured thin films\n",
      "Simple technique for measuring the Goos-Hanchen effect with polarization modulation and a position-sensitive detector\n",
      "CONSERVATION OF ANGULAR MOMENT WITH SIX COMPONENTS AND ASYMMETRICAL IMPULSE ENERGY TENSORS\n",
      "INTERFERENCE THEORY OF REFLECTION FROM MULTILAYERED MEDIA\n",
      "Longitudinal and transverse effects of nonspecular reflection\n",
      "TRANSVERSE DISPLACEMENT OF A TOTALLY REFLECTED LIGHT-BEAM AND PHASE-SHIFT METHOD\n",
      "MECHANICAL INTERPRETATION OF SHIFTS IN TOTAL REFLECTION OF SPINNING PARTICLES\n",
      "WHY ENERGY FLUX AND ABRAHAMS PHOTON MOMENTUM ARE MACROSCOPICALLY SUBSTITUTED FOR MOMENTUM DENSITY AND MINKOWSKIS PHOTON MOMENTUM\n",
      "SPIN ANGULAR-MOMENTUM OF A FIELD INTERACTING WITH A PLANE INTERFACE\n",
      "Numerical study of the displacement of a three-dimensional Gaussian beam transmitted at total internal reflection. Near-field applications\n",
      "LONGITUDINAL AND TRANSVERSE DISPLACEMENTS OF A BOUNDED MICROWAVE BEAM AT TOTAL INTERNAL-REFLECTION\n",
      "EXCHANGED MOMENTUM BETWEEN MOVING ATOMS AND A SURFACE-WAVE - THEORY AND EXPERIMENT\n",
      "ASYMMETRICAL MOMENTUM-ENERGY TENSORS AND 6-COMPONENT ANGULAR-MOMENTUM IN PROBLEM CONCERNING 2 PHOTON MOMENTA AND MAGNETODYNAMIC EFFECT PROBLEM\n",
      "Experimental observation of the Imbert-Fedorov transverse displacement after a single total reflection\n",
      "RESONANCE EFFECTS ON TOTAL INTERNAL-REFLECTION AND LATERAL (GOOS-HANCHEN) BEAM DISPLACEMENT AT THE INTERFACE BETWEEN NONLOCAL AND LOCAL DIELECTRIC\n",
      "Goos-Hanchen shift as a probe in evanescent slab waveguide sensors\n",
      "THEORETICAL NOTES ON AMPLIFICATION OF TRANSVERSE SHIFT BY TOTAL REFLECTION ON MULTILAYERED SYSTEM\n",
      "INTERNAL PHOTON IMPULSE OF DIELECTRIC AND ON COUPLE APPLIED TO ANISOTROPIC CRYSTAL\n",
      "SPIN ANGULAR-MOMENTUM OF A FIELD INTERACTING WITH A PLANE INTERFACE\n",
      "CALCULATION AND MEASUREMENT OF FORCES AND TORQUES APPLIED TO UNIAXIAL CRYSTAL BY EXTRAORDINARY WAVE\n",
      "Goos-Hanchen and Imbert-Fedorov shifts for leaky guided modes\n",
      "PREDICTION OF A RESONANCE-ENHANCED LASER-BEAM DISPLACEMENT AT TOTAL INTERNAL-REFLECTION IN SEMICONDUCTORS\n",
      "GENERAL STUDY OF DISPLACEMENTS AT TOTAL REFLECTION\n",
      "NONLINEAR TOTALLY REFLECTING PRISM COUPLER - THERMOMECHANIC EFFECTS AND INTENSITY-DEPENDENT REFRACTIVE-INDEX OF THIN-FILMS\n",
      "DISPLACEMENT OF A TOTALLY REFLECTED LIGHT-BEAM - FILTERING OF POLARIZATION STATES AND AMPLIFICATION\n",
      "Transverse displacement at total reflection near the grazing angle: a way to discriminate between theories\n"
     ]
    }
   ],
   "source": [
    "for R in RC:\n",
    "    print(R)"
   ]
  },
  {
   "cell_type": "markdown",
   "metadata": {},
   "source": [
    "The individual `Records` are index by their WOS numbers so you can access a specific one in the collection if you know its number.\n"
   ]
  },
  {
   "cell_type": "code",
   "execution_count": 8,
   "metadata": {
    "collapsed": false
   },
   "outputs": [
    {
     "data": {
      "text/plain": [
       "<metaknowledge.record.Record at 0x7f07784be860>"
      ]
     },
     "execution_count": 8,
     "metadata": {},
     "output_type": "execute_result"
    }
   ],
   "source": [
    "RC.getWOS(\"WOS:A1979GV55600001\")"
   ]
  },
  {
   "cell_type": "markdown",
   "metadata": {},
   "source": [
    "# `Citation` object"
   ]
  },
  {
   "cell_type": "markdown",
   "metadata": {},
   "source": [
    "[Citation](../documentation/classes/Citation.html#module-metaknowledge.citation) is an object to contain the results of parsing a citation. They can be created from a `Record`\n"
   ]
  },
  {
   "cell_type": "code",
   "execution_count": 9,
   "metadata": {
    "collapsed": false
   },
   "outputs": [
    {
     "name": "stdout",
     "output_type": "stream",
     "text": [
      "Pillon F, 2005, APPL PHYS B-LASERS O, V80, P355, DOI 10.1007/s00340-005-1728-2\n"
     ]
    }
   ],
   "source": [
    "Cite = R.createCitation()\n",
    "print(Cite)"
   ]
  },
  {
   "cell_type": "markdown",
   "metadata": {},
   "source": [
    "`Citations` allow for the raw strings of citations to be manipulated easily by _metaknowledge_.\n",
    "\n",
    "#Filtering"
   ]
  },
  {
   "cell_type": "markdown",
   "metadata": {},
   "source": [
    "The for loop shown above is the main way to filter a RecordCollection, that said there are a few builtin filters, e.g. [yearSplit()](../documentation/classes/RecordCollection.html#metaknowledge.RecordCollection.yearSplit), but the for loop is an easily generalized way of filtering that is relatively simple to read so it the main way you should filter. An example of the workflow is as follows:"
   ]
  },
  {
   "cell_type": "markdown",
   "metadata": {},
   "source": [
    "First create a new RecordCollection\n"
   ]
  },
  {
   "cell_type": "code",
   "execution_count": 10,
   "metadata": {
    "collapsed": false
   },
   "outputs": [],
   "source": [
    "RCfiltered = mk.RecordCollection()"
   ]
  },
  {
   "cell_type": "markdown",
   "metadata": {},
   "source": [
    "Then add the records that meet your condition, in this case that their title's start with `'A'`\n"
   ]
  },
  {
   "cell_type": "code",
   "execution_count": 11,
   "metadata": {
    "collapsed": false
   },
   "outputs": [],
   "source": [
    "for R in RC:\n",
    "    if R.title[0] == 'A':\n",
    "        RCfiltered.addRec(R)"
   ]
  },
  {
   "cell_type": "code",
   "execution_count": 12,
   "metadata": {
    "collapsed": false
   },
   "outputs": [
    {
     "name": "stdout",
     "output_type": "stream",
     "text": [
      "Collection of 3 records\n"
     ]
    }
   ],
   "source": [
    "print(RCfiltered)"
   ]
  },
  {
   "cell_type": "markdown",
   "metadata": {},
   "source": [
    "Now you have a RecordCollection `RCfiltered` of all the `Records` whose titles begin with `'A'`.\n",
    "\n",
    "One note about implementing this, the above code does not handle the case in which the title is missing i.e. `R.title` is `None`. You will have to deal with this on your own."
   ]
  },
  {
   "cell_type": "markdown",
   "metadata": {},
   "source": [
    "Two builtin functions to filter collections are [yearSplit()](../documentation/classes/RecordCollection.html#metaknowledge.RecordCollection.yearSplit) and [localCitesOf()](../documentation/classes/RecordCollection.html#metaknowledge.RecordCollection.localCitesOf). To get a RecordCollection of all Records between 1970 and 1979:\n"
   ]
  },
  {
   "cell_type": "code",
   "execution_count": 13,
   "metadata": {
    "collapsed": false
   },
   "outputs": [
    {
     "name": "stdout",
     "output_type": "stream",
     "text": [
      "Collection of 19 records\n"
     ]
    }
   ],
   "source": [
    "RC70 = RC.yearSplit(1970, 1979)\n",
    "print(RC70)"
   ]
  },
  {
   "cell_type": "markdown",
   "metadata": {},
   "source": [
    "The second function [localCitesOf()](../documentation/classes/RecordCollection.html#metaknowledge.RecordCollection.localCitesOf) takes in an object that a [Citation](../documentation/classes/Citation.html#module-metaknowledge.citation) can be created from and returns a RecordCollection of all the Records that cite it. So to see all the records that cite `\"Yariv A., 1971, INTRO OPTICAL ELECTR\"`.\n"
   ]
  },
  {
   "cell_type": "code",
   "execution_count": 14,
   "metadata": {
    "collapsed": false
   },
   "outputs": [
    {
     "name": "stdout",
     "output_type": "stream",
     "text": [
      "Collection of 1 records\n"
     ]
    }
   ],
   "source": [
    "RCintroOpt = RC.localCitesOf(\"Yariv A., 1971, INTRO OPTICAL ELECTR\")\n",
    "print(RCintroOpt)"
   ]
  },
  {
   "cell_type": "markdown",
   "metadata": {},
   "source": [
    "# Exporting RecordCollections"
   ]
  },
  {
   "cell_type": "markdown",
   "metadata": {},
   "source": [
    "Now you have a filtered RecordCollection you can write it as a file with [writeFile()](../documentation/classes/RecordCollection.html#metaknowledge.RecordCollection.writeFile)\n"
   ]
  },
  {
   "cell_type": "code",
   "execution_count": 15,
   "metadata": {
    "collapsed": false
   },
   "outputs": [],
   "source": [
    " RCfiltered.writeFile(\"Records_Starting_with_A.txt\")"
   ]
  },
  {
   "cell_type": "markdown",
   "metadata": {},
   "source": [
    "The written file is identical to one of those produced by WOS."
   ]
  },
  {
   "cell_type": "markdown",
   "metadata": {},
   "source": [
    "If you wish to have a more useful file use [writeCSV()](../documentation/classes/RecordCollection.html#metaknowledge.RecordCollection.writeCSV) which creates a CSV file of all the tags as columns and the Records as rows. IF you only care about a few tags the `onlyTheseTags` argument allows you to control the tags.\n"
   ]
  },
  {
   "cell_type": "code",
   "execution_count": 16,
   "metadata": {
    "collapsed": false
   },
   "outputs": [],
   "source": [
    "selectedTags = ['TI', 'UT', 'CR', 'AF']"
   ]
  },
  {
   "cell_type": "markdown",
   "metadata": {},
   "source": [
    "This will give only the title, WOS number, citations, and authors.\n"
   ]
  },
  {
   "cell_type": "code",
   "execution_count": 17,
   "metadata": {
    "collapsed": false
   },
   "outputs": [],
   "source": [
    "RCfiltered.writeCSV(\"Records_Starting_with_A.csv\", onlyTheseTags = selectedTags)"
   ]
  },
  {
   "cell_type": "markdown",
   "metadata": {},
   "source": [
    "The last export feature is for using _metaknowledge_ with other packages, in particular [pandas](http://pandas.pydata.org/), which you will learn about later, but others should also work. [makeDict()](../documentation/classes/RecordCollection.html#metaknowledge.RecordCollection.makeDict) creates a dictionary with tags as keys and lists as values with each index of the lists corresponding to a Record. _pandas_ can accept these directly to make DataFrames.\n"
   ]
  },
  {
   "cell_type": "code",
   "execution_count": 18,
   "metadata": {
    "collapsed": false
   },
   "outputs": [],
   "source": [
    "import pandas\n",
    "recDataFrame = pandas.DataFrame(RC.makeDict())"
   ]
  }
 ],
 "metadata": {
  "kernelspec": {
   "display_name": "Python 3",
   "language": "python",
   "name": "python3"
  },
  "language_info": {
   "codemirror_mode": {
    "name": "ipython",
    "version": 3
   },
   "file_extension": ".py",
   "mimetype": "text/x-python",
   "name": "python",
   "nbconvert_exporter": "python",
   "pygments_lexer": "ipython3",
   "version": "3.4.0"
  }
 },
 "nbformat": 4,
 "nbformat_minor": 0
}
